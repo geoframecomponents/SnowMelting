{
 "cells": [
  {
   "cell_type": "markdown",
   "id": "e1a8caa4",
   "metadata": {},
   "source": [
    "# Check mass balance - Classical\n",
    "\n",
    "Niccolò Tubini, 16 July 2021"
   ]
  },
  {
   "cell_type": "code",
   "execution_count": 74,
   "id": "2920566c",
   "metadata": {},
   "outputs": [],
   "source": [
    "import os\n",
    "import pandas as pd\n",
    "import matplotlib.pyplot as plt\n",
    "from gf.io import gf_io"
   ]
  },
  {
   "cell_type": "code",
   "execution_count": 75,
   "id": "f8a0fcc9",
   "metadata": {},
   "outputs": [],
   "source": [
    "in_rain_5min= gf_io.read_OMS_timeseries('snowrainsep_precip_10_5min_1_impulso.csv',-9999)\n",
    "in_rain_5min.index = pd.to_datetime(in_rain_5min.index)\n",
    "\n",
    "in_snow_5min= gf_io.read_OMS_timeseries('snowrainsep_snow_10_5min_1_impulso.csv',-9999)\n",
    "in_snow_5min.index = pd.to_datetime(in_snow_5min.index)\n",
    "\n",
    "in_rain = gf_io.read_OMS_timeseries('snowrainsep_precip_10_1_impulso.csv',-9999)\n",
    "in_rain.index = pd.to_datetime(in_rain.index)\n",
    "\n",
    "in_snow = gf_io.read_OMS_timeseries('snowrainsep_snow_10_1_impulso.csv',-9999)\n",
    "in_snow.index = pd.to_datetime(in_snow.index)"
   ]
  },
  {
   "cell_type": "code",
   "execution_count": 110,
   "id": "f689dba4",
   "metadata": {},
   "outputs": [],
   "source": [
    "swe_5min = gf_io.read_OMS_timeseries('SWEClassical_1_impulso_5min_new.csv',-9999)\n",
    "swe_5min.index = pd.to_datetime(swe_5min.index)\n",
    "\n",
    "melting_5min = gf_io.read_OMS_timeseries('MeltingClassical_1_impulso_5min_new.csv',-9999)\n",
    "melting_5min.index = pd.to_datetime(melting_5min.index)\n",
    "\n",
    "swe = gf_io.read_OMS_timeseries('SWEClassical_1_impulso_hourly_new.csv',-9999)\n",
    "swe.index = pd.to_datetime(swe.index)\n",
    "\n",
    "melting = gf_io.read_OMS_timeseries('MeltingClassical_1_impulso_hourly_new.csv',-9999)\n",
    "melting.index = pd.to_datetime(melting.index)"
   ]
  },
  {
   "cell_type": "code",
   "execution_count": 111,
   "id": "9d042245",
   "metadata": {},
   "outputs": [
    {
     "data": {
      "text/html": [
       "<div>\n",
       "<style scoped>\n",
       "    .dataframe tbody tr th:only-of-type {\n",
       "        vertical-align: middle;\n",
       "    }\n",
       "\n",
       "    .dataframe tbody tr th {\n",
       "        vertical-align: top;\n",
       "    }\n",
       "\n",
       "    .dataframe thead th {\n",
       "        text-align: right;\n",
       "    }\n",
       "</style>\n",
       "<table border=\"1\" class=\"dataframe\">\n",
       "  <thead>\n",
       "    <tr style=\"text-align: right;\">\n",
       "      <th></th>\n",
       "      <th>10</th>\n",
       "    </tr>\n",
       "    <tr>\n",
       "      <th>Datetime</th>\n",
       "      <th></th>\n",
       "    </tr>\n",
       "  </thead>\n",
       "  <tbody>\n",
       "    <tr>\n",
       "      <td>2013-11-01 00:00:00</td>\n",
       "      <td>0.0</td>\n",
       "    </tr>\n",
       "    <tr>\n",
       "      <td>2013-11-01 00:05:00</td>\n",
       "      <td>0.0</td>\n",
       "    </tr>\n",
       "    <tr>\n",
       "      <td>2013-11-01 00:10:00</td>\n",
       "      <td>0.0</td>\n",
       "    </tr>\n",
       "    <tr>\n",
       "      <td>2013-11-01 00:15:00</td>\n",
       "      <td>0.0</td>\n",
       "    </tr>\n",
       "    <tr>\n",
       "      <td>2013-11-01 00:20:00</td>\n",
       "      <td>0.0</td>\n",
       "    </tr>\n",
       "    <tr>\n",
       "      <td>...</td>\n",
       "      <td>...</td>\n",
       "    </tr>\n",
       "    <tr>\n",
       "      <td>2013-11-10 23:40:00</td>\n",
       "      <td>0.0</td>\n",
       "    </tr>\n",
       "    <tr>\n",
       "      <td>2013-11-10 23:45:00</td>\n",
       "      <td>0.0</td>\n",
       "    </tr>\n",
       "    <tr>\n",
       "      <td>2013-11-10 23:50:00</td>\n",
       "      <td>0.0</td>\n",
       "    </tr>\n",
       "    <tr>\n",
       "      <td>2013-11-10 23:55:00</td>\n",
       "      <td>0.0</td>\n",
       "    </tr>\n",
       "    <tr>\n",
       "      <td>2013-11-11 00:00:00</td>\n",
       "      <td>0.0</td>\n",
       "    </tr>\n",
       "  </tbody>\n",
       "</table>\n",
       "<p>2881 rows × 1 columns</p>\n",
       "</div>"
      ],
      "text/plain": [
       "                      10\n",
       "Datetime                \n",
       "2013-11-01 00:00:00  0.0\n",
       "2013-11-01 00:05:00  0.0\n",
       "2013-11-01 00:10:00  0.0\n",
       "2013-11-01 00:15:00  0.0\n",
       "2013-11-01 00:20:00  0.0\n",
       "...                  ...\n",
       "2013-11-10 23:40:00  0.0\n",
       "2013-11-10 23:45:00  0.0\n",
       "2013-11-10 23:50:00  0.0\n",
       "2013-11-10 23:55:00  0.0\n",
       "2013-11-11 00:00:00  0.0\n",
       "\n",
       "[2881 rows x 1 columns]"
      ]
     },
     "execution_count": 111,
     "metadata": {},
     "output_type": "execute_result"
    }
   ],
   "source": [
    "melting_5min"
   ]
  },
  {
   "cell_type": "markdown",
   "id": "b8f57092",
   "metadata": {},
   "source": [
    "## Mass Balance hourly"
   ]
  },
  {
   "cell_type": "code",
   "execution_count": 112,
   "id": "593b4b39",
   "metadata": {},
   "outputs": [
    {
     "data": {
      "text/plain": [
       "0.0"
      ]
     },
     "execution_count": 112,
     "metadata": {},
     "output_type": "execute_result"
    }
   ],
   "source": [
    "tStart = '2013-10-01 00:00'\n",
    "tEnd = '2014-10-01 00:00'\n",
    "in_rain[tStart:tEnd]['10'].sum()+in_snow[tStart:tEnd]['10'].sum() - melting[tStart:tEnd]['10'].sum() - swe.iloc[-1]['10']"
   ]
  },
  {
   "cell_type": "markdown",
   "id": "c1dd75a5",
   "metadata": {},
   "source": [
    "## Mass Balance 5 minutes"
   ]
  },
  {
   "cell_type": "code",
   "execution_count": 113,
   "id": "e726135e",
   "metadata": {},
   "outputs": [
    {
     "data": {
      "text/plain": [
       "-1.2434497875801753e-14"
      ]
     },
     "execution_count": 113,
     "metadata": {},
     "output_type": "execute_result"
    }
   ],
   "source": [
    "in_rain_5min['10'].sum()+in_snow_5min['10'].sum() - melting_5min['10'].sum()  -swe_5min.iloc[-1]['10']"
   ]
  },
  {
   "cell_type": "code",
   "execution_count": 114,
   "id": "ab16c7d5",
   "metadata": {},
   "outputs": [
    {
     "data": {
      "image/png": "[encoded data removed]",
      "text/plain": [
       "<Figure size 432x288 with 1 Axes>"
      ]
     },
     "metadata": {
      "needs_background": "light"
     },
     "output_type": "display_data"
    }
   ],
   "source": [
    "tStart = '2013-11-01 00:00'\n",
    "tEnd = '2013-11-11 00:00'\n",
    "in_rain[tStart:tEnd]['10'].plot(color='blue')\n",
    "in_snow[tStart:tEnd]['10'].plot(color='cyan')\n",
    "swe[tStart:tEnd]['10'].plot(color='red')\n",
    "melting[tStart:tEnd]['10'].plot(color='0.2')\n",
    "plt.legend(['rain', 'snow', 'swe', 'q'])\n",
    "plt.ylabel(\"mm\")\n",
    "plt.title('Hourly')\n",
    "plt.show()"
   ]
  },
  {
   "cell_type": "code",
   "execution_count": 115,
   "id": "8773501e",
   "metadata": {},
   "outputs": [
    {
     "data": {
      "image/png": "[encoded data removed]",
      "text/plain": [
       "<Figure size 432x288 with 1 Axes>"
      ]
     },
     "metadata": {
      "needs_background": "light"
     },
     "output_type": "display_data"
    }
   ],
   "source": [
    "tStart = '2013-11-01 00:00'\n",
    "tEnd = '2013-11-11 00:00'\n",
    "in_rain_5min[tStart:tEnd]['10'].plot(color='blue')\n",
    "in_snow_5min[tStart:tEnd]['10'].plot(color='cyan')\n",
    "swe_5min[tStart:tEnd]['10'].plot(color='red')\n",
    "melting_5min[tStart:tEnd]['10'].plot(color='0.2')\n",
    "plt.legend(['rain', 'snow', 'swe', 'q'])\n",
    "plt.ylabel(\"mm\")\n",
    "plt.title('5 minutes')\n",
    "plt.show()"
   ]
  },
  {
   "cell_type": "markdown",
   "id": "1c44b956",
   "metadata": {},
   "source": [
    "## Resample 5 min to hourly"
   ]
  },
  {
   "cell_type": "code",
   "execution_count": 116,
   "id": "a78472f1",
   "metadata": {},
   "outputs": [],
   "source": [
    "melting_resampled = melting_5min.resample('1h').sum()\n"
   ]
  },
  {
   "cell_type": "code",
   "execution_count": 117,
   "id": "1c02fd21",
   "metadata": {},
   "outputs": [
    {
     "data": {
      "text/plain": [
       "<matplotlib.axes._subplots.AxesSubplot at 0x1b3ac8063c8>"
      ]
     },
     "execution_count": 117,
     "metadata": {},
     "output_type": "execute_result"
    },
    {
     "data": {
      "image/png": "[encoded data removed]",
      "text/plain": [
       "<Figure size 432x288 with 1 Axes>"
      ]
     },
     "metadata": {
      "needs_background": "light"
     },
     "output_type": "display_data"
    }
   ],
   "source": [
    "(melting_resampled- melting).plot()"
   ]
  },
  {
   "cell_type": "code",
   "execution_count": 84,
   "id": "f6066939",
   "metadata": {},
   "outputs": [
    {
     "name": "stdout",
     "output_type": "stream",
     "text": [
      "hourly\t\t\t5min\n",
      "0.9999999999999998 0.4683008320453416\n",
      "1.9887457827456307 0.9185063118039649\n",
      "2.9572728631565157 1.3519136567440164\n",
      "3.9271377429060776 1.786658801022745\n",
      "4.883624629268869 2.208025951914703\n"
     ]
    }
   ],
   "source": [
    "print('hourly\\t\\t\\t5min')\n",
    "print(swe.loc['2013-11-01 00:00']['10'], swe_5min.loc['2013-11-01 00:55']['10'])\n",
    "print(swe.loc['2013-11-01 01:00']['10'], swe_5min.loc['2013-11-01 01:55']['10'])\n",
    "print(swe.loc['2013-11-01 02:00']['10'], swe_5min.loc['2013-11-01 02:55']['10'])\n",
    "print(swe.loc['2013-11-01 03:00']['10'], swe_5min.loc['2013-11-01 03:55']['10'])\n",
    "print(swe.loc['2013-11-01 04:00']['10'], swe_5min.loc['2013-11-01 04:55']['10'])"
   ]
  },
  {
   "cell_type": "code",
   "execution_count": 85,
   "id": "6e561345",
   "metadata": {},
   "outputs": [],
   "source": [
    "errorMi = gf_io.read_OMS_timeseries('errorSolidWater_hourly.csv',-9999)\n",
    "errorMi = gf_io.read_OMS_timeseries('errorSolidWater_5min.csv',-9999)\n",
    "\n",
    "errorMi.index = pd.to_datetime(errorMi.index)\n",
    "\n",
    "errorMw = gf_io.read_OMS_timeseries('errorLiquidWater_hourly.csv',-9999)\n",
    "errorMi = gf_io.read_OMS_timeseries('errorSolidWater_5min.csv',-9999)\n",
    "\n",
    "errorMw.index = pd.to_datetime(errorMw.index)\n",
    "\n",
    "errorSWE = gf_io.read_OMS_timeseries('errorSWE_hourly.csv',-9999)\n",
    "errorSWE = gf_io.read_OMS_timeseries('errorSWE_5min.csv',-9999)\n",
    "errorSWE.index = pd.to_datetime(errorSWE.index)"
   ]
  },
  {
   "cell_type": "code",
   "execution_count": 86,
   "id": "e3b03495",
   "metadata": {},
   "outputs": [
    {
     "data": {
      "text/plain": [
       "2.220446049250313e-16"
      ]
     },
     "execution_count": 86,
     "metadata": {},
     "output_type": "execute_result"
    }
   ],
   "source": [
    "errorMw['10'].max()"
   ]
  },
  {
   "cell_type": "code",
   "execution_count": 87,
   "id": "667eb6eb",
   "metadata": {},
   "outputs": [
    {
     "data": {
      "text/plain": [
       "-2.220446049250313e-16"
      ]
     },
     "execution_count": 87,
     "metadata": {},
     "output_type": "execute_result"
    }
   ],
   "source": [
    "errorMw['10'].min()"
   ]
  },
  {
   "cell_type": "code",
   "execution_count": 88,
   "id": "e0ba491a",
   "metadata": {},
   "outputs": [
    {
     "data": {
      "text/plain": [
       "7.355227538141662e-16"
      ]
     },
     "execution_count": 88,
     "metadata": {},
     "output_type": "execute_result"
    }
   ],
   "source": [
    "errorSWE['10'].max()"
   ]
  },
  {
   "cell_type": "code",
   "execution_count": 89,
   "id": "bcb58095",
   "metadata": {},
   "outputs": [
    {
     "data": {
      "text/plain": [
       "-5.967448757360216e-16"
      ]
     },
     "execution_count": 89,
     "metadata": {},
     "output_type": "execute_result"
    }
   ],
   "source": [
    "errorSWE['10'].min()"
   ]
  },
  {
   "cell_type": "code",
   "execution_count": 68,
   "id": "abca409b",
   "metadata": {},
   "outputs": [
    {
     "data": {
      "text/plain": [
       "-1.8735013540549517e-16"
      ]
     },
     "execution_count": 68,
     "metadata": {},
     "output_type": "execute_result"
    }
   ],
   "source": [
    "errorMi['10'].min()"
   ]
  },
  {
   "cell_type": "code",
   "execution_count": 69,
   "id": "b8b7b5b2",
   "metadata": {},
   "outputs": [
    {
     "data": {
      "text/plain": [
       "1.8735013540549517e-16"
      ]
     },
     "execution_count": 69,
     "metadata": {},
     "output_type": "execute_result"
    }
   ],
   "source": [
    "errorMi['10'].max()"
   ]
  },
  {
   "cell_type": "code",
   "execution_count": null,
   "id": "2e280576",
   "metadata": {},
   "outputs": [],
   "source": []
  },
  {
   "cell_type": "code",
   "execution_count": null,
   "id": "daef5634",
   "metadata": {},
   "outputs": [],
   "source": []
  }
 ],
 "metadata": {
  "kernelspec": {
   "display_name": "Python 3",
   "language": "python",
   "name": "python3"
  },
  "language_info": {
   "codemirror_mode": {
    "name": "ipython",
    "version": 3
   },
   "file_extension": ".py",
   "mimetype": "text/x-python",
   "name": "python",
   "nbconvert_exporter": "python",
   "pygments_lexer": "ipython3",
   "version": "3.7.7"
  }
 },
 "nbformat": 4,
 "nbformat_minor": 5
}
