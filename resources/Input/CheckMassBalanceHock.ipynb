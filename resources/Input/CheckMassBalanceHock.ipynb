{
 "cells": [
  {
   "cell_type": "markdown",
   "id": "78da1681",
   "metadata": {},
   "source": [
    "# Check mass balance - Hock\n",
    "\n",
    "Niccolò Tubini, 16 July 2021"
   ]
  },
  {
   "cell_type": "code",
   "execution_count": 1,
   "id": "dbbfd509",
   "metadata": {},
   "outputs": [],
   "source": [
    "import os\n",
    "import pandas as pd\n",
    "import matplotlib.pyplot as plt\n",
    "from gf.io import gf_io"
   ]
  },
  {
   "cell_type": "code",
   "execution_count": 2,
   "id": "af5e8a61",
   "metadata": {},
   "outputs": [],
   "source": [
    "in_rain_5min= gf_io.read_OMS_timeseries('snowrainsep_precip_10_5min_1_impulso.csv',-9999)\n",
    "in_rain_5min.index = pd.to_datetime(in_rain_5min.index)\n",
    "\n",
    "in_snow_5min= gf_io.read_OMS_timeseries('snowrainsep_snow_10_5min_1_impulso.csv',-9999)\n",
    "in_snow_5min.index = pd.to_datetime(in_snow_5min.index)\n",
    "\n",
    "in_rain = gf_io.read_OMS_timeseries('snowrainsep_precip_10_1_impulso.csv',-9999)\n",
    "in_rain.index = pd.to_datetime(in_rain.index)\n",
    "\n",
    "in_snow = gf_io.read_OMS_timeseries('snowrainsep_snow_10_1_impulso.csv',-9999)\n",
    "in_snow.index = pd.to_datetime(in_snow.index)"
   ]
  },
  {
   "cell_type": "code",
   "execution_count": 3,
   "id": "59c13bd4",
   "metadata": {},
   "outputs": [],
   "source": [
    "swe_5min = gf_io.read_OMS_timeseries('SWEHock_1_impulso_5min_new.csv',-9999)\n",
    "swe_5min.index = pd.to_datetime(swe_5min.index)\n",
    "\n",
    "melting_5min = gf_io.read_OMS_timeseries('MeltingHock_1_impulso_5min_new.csv',-9999)\n",
    "melting_5min.index = pd.to_datetime(melting_5min.index)\n",
    "\n",
    "swe = gf_io.read_OMS_timeseries('SWEHock_1_impulso_hourly_new.csv',-9999)\n",
    "swe.index = pd.to_datetime(swe.index)\n",
    "\n",
    "melting = gf_io.read_OMS_timeseries('MeltingHock_1_impulso_hourly_new.csv',-9999)\n",
    "melting.index = pd.to_datetime(melting.index)"
   ]
  },
  {
   "cell_type": "code",
   "execution_count": 4,
   "id": "81b25644",
   "metadata": {},
   "outputs": [
    {
     "data": {
      "text/html": [
       "<div>\n",
       "<style scoped>\n",
       "    .dataframe tbody tr th:only-of-type {\n",
       "        vertical-align: middle;\n",
       "    }\n",
       "\n",
       "    .dataframe tbody tr th {\n",
       "        vertical-align: top;\n",
       "    }\n",
       "\n",
       "    .dataframe thead th {\n",
       "        text-align: right;\n",
       "    }\n",
       "</style>\n",
       "<table border=\"1\" class=\"dataframe\">\n",
       "  <thead>\n",
       "    <tr style=\"text-align: right;\">\n",
       "      <th></th>\n",
       "      <th>10</th>\n",
       "    </tr>\n",
       "    <tr>\n",
       "      <th>Datetime</th>\n",
       "      <th></th>\n",
       "    </tr>\n",
       "  </thead>\n",
       "  <tbody>\n",
       "    <tr>\n",
       "      <td>2013-11-30 23:40:00</td>\n",
       "      <td>5.005123</td>\n",
       "    </tr>\n",
       "    <tr>\n",
       "      <td>2013-11-30 23:45:00</td>\n",
       "      <td>5.003180</td>\n",
       "    </tr>\n",
       "    <tr>\n",
       "      <td>2013-11-30 23:50:00</td>\n",
       "      <td>5.001237</td>\n",
       "    </tr>\n",
       "    <tr>\n",
       "      <td>2013-11-30 23:55:00</td>\n",
       "      <td>4.999293</td>\n",
       "    </tr>\n",
       "    <tr>\n",
       "      <td>2013-12-01 00:00:00</td>\n",
       "      <td>4.997388</td>\n",
       "    </tr>\n",
       "  </tbody>\n",
       "</table>\n",
       "</div>"
      ],
      "text/plain": [
       "                           10\n",
       "Datetime                     \n",
       "2013-11-30 23:40:00  5.005123\n",
       "2013-11-30 23:45:00  5.003180\n",
       "2013-11-30 23:50:00  5.001237\n",
       "2013-11-30 23:55:00  4.999293\n",
       "2013-12-01 00:00:00  4.997388"
      ]
     },
     "execution_count": 4,
     "metadata": {},
     "output_type": "execute_result"
    }
   ],
   "source": [
    "swe_5min.tail()"
   ]
  },
  {
   "cell_type": "markdown",
   "id": "0bd6321f",
   "metadata": {},
   "source": [
    "## Mass Balance hourly"
   ]
  },
  {
   "cell_type": "code",
   "execution_count": 110,
   "id": "3be4c93a",
   "metadata": {},
   "outputs": [
    {
     "data": {
      "text/plain": [
       "7.105427357601002e-15"
      ]
     },
     "execution_count": 110,
     "metadata": {},
     "output_type": "execute_result"
    }
   ],
   "source": [
    "tStart = '2013-10-01 00:00'\n",
    "tEnd = '2014-10-01 00:00'\n",
    "in_rain[tStart:tEnd]['10'].sum()+in_snow[tStart:tEnd]['10'].sum() - melting[tStart:tEnd]['10'].sum() - swe.iloc[-1]['10']"
   ]
  },
  {
   "cell_type": "markdown",
   "id": "2ca148f5",
   "metadata": {},
   "source": [
    "## Mass Balance 5 minutes"
   ]
  },
  {
   "cell_type": "code",
   "execution_count": 111,
   "id": "6b054a43",
   "metadata": {},
   "outputs": [
    {
     "data": {
      "text/plain": [
       "-6.394884621840902e-14"
      ]
     },
     "execution_count": 111,
     "metadata": {},
     "output_type": "execute_result"
    }
   ],
   "source": [
    "tStart = '2013-10-01 00:00'\n",
    "tEnd = '2014-10-01 00:00'\n",
    "in_rain_5min[tStart:tEnd]['10'].sum()+in_snow_5min[tStart:tEnd]['10'].sum() - melting_5min[tStart:tEnd]['10'].sum() - swe_5min.iloc[-1]['10']"
   ]
  },
  {
   "cell_type": "code",
   "execution_count": 5,
   "id": "72273814",
   "metadata": {},
   "outputs": [
    {
     "data": {
      "image/png": "[encoded data removed]",
      "text/plain": [
       "<Figure size 432x288 with 1 Axes>"
      ]
     },
     "metadata": {
      "needs_background": "light"
     },
     "output_type": "display_data"
    }
   ],
   "source": [
    "tStart = '2013-10-31 00:00'\n",
    "tEnd = '2013-12-01 00:00'\n",
    "in_rain[tStart:tEnd]['10'].plot(color='blue')\n",
    "in_snow[tStart:tEnd]['10'].plot(color='cyan')\n",
    "swe[tStart:tEnd]['10'].plot(color='red')\n",
    "melting[tStart:tEnd]['10'].plot(color='0.2')\n",
    "plt.legend(['rain', 'snow', 'swe', 'q'])\n",
    "plt.ylabel(\"mm\")\n",
    "plt.title('Hourly')\n",
    "plt.show()"
   ]
  },
  {
   "cell_type": "code",
   "execution_count": 113,
   "id": "96313dc0",
   "metadata": {},
   "outputs": [
    {
     "data": {
      "image/png": "[encoded data removed]",
      "text/plain": [
       "<Figure size 432x288 with 1 Axes>"
      ]
     },
     "metadata": {
      "needs_background": "light"
     },
     "output_type": "display_data"
    }
   ],
   "source": [
    "tStart = '2013-10-31 00:00'\n",
    "tEnd = '2013-12-01 00:00'\n",
    "in_rain_5min[tStart:tEnd]['10'].plot(color='blue')\n",
    "in_snow_5min[tStart:tEnd]['10'].plot(color='cyan')\n",
    "swe_5min[tStart:tEnd]['10'].plot(color='red')\n",
    "melting_5min[tStart:tEnd]['10'].plot(color='0.2')\n",
    "plt.legend(['rain', 'snow', 'swe', 'q'])\n",
    "plt.ylabel(\"mm\")\n",
    "plt.title('5 minutes')\n",
    "plt.show()"
   ]
  },
  {
   "cell_type": "code",
   "execution_count": 114,
   "id": "d642a1a6",
   "metadata": {},
   "outputs": [
    {
     "data": {
      "image/png": "[encoded data removed]",
      "text/plain": [
       "<Figure size 432x288 with 1 Axes>"
      ]
     },
     "metadata": {
      "needs_background": "light"
     },
     "output_type": "display_data"
    }
   ],
   "source": [
    "tStart = '2013-11-01 07:00'\n",
    "tEnd = '2013-11-30 00:00'\n",
    "swe_5min[tStart:tEnd]['10'].plot(color='red')\n",
    "swe[tStart:tEnd]['10'].plot(color='0.2')\n",
    "plt.legend(['5min', '1h'])\n",
    "plt.ylabel(\"mm\")\n",
    "plt.title('SWE')\n",
    "plt.show()"
   ]
  },
  {
   "cell_type": "code",
   "execution_count": 115,
   "id": "4e44e97c",
   "metadata": {},
   "outputs": [
    {
     "data": {
      "image/png": "[encoded data removed]",
      "text/plain": [
       "<Figure size 432x288 with 1 Axes>"
      ]
     },
     "metadata": {
      "needs_background": "light"
     },
     "output_type": "display_data"
    }
   ],
   "source": [
    "tStart = '2013-11-01 07:00'\n",
    "tEnd = '2013-11-02 00:00'\n",
    "melting_5min[tStart:tEnd]['10'].plot(color='red')\n",
    "melting[tStart:tEnd]['10'].plot(color='0.2')\n",
    "plt.legend(['5min', '1h'])\n",
    "plt.ylabel(\"mm\")\n",
    "plt.title('melting')\n",
    "plt.show()"
   ]
  },
  {
   "cell_type": "markdown",
   "id": "8c8ace82",
   "metadata": {},
   "source": [
    "## Resample 5 min to hourly"
   ]
  },
  {
   "cell_type": "markdown",
   "id": "ca296d38",
   "metadata": {},
   "source": [
    "## Resample 5 min to hourly"
   ]
  },
  {
   "cell_type": "code",
   "execution_count": 116,
   "id": "8a24d3a1",
   "metadata": {},
   "outputs": [],
   "source": [
    "melting_resampled = melting_5min.resample('1h').sum()\n",
    "# swe_resampled = swe_5min.resample('1h').mean()"
   ]
  },
  {
   "cell_type": "code",
   "execution_count": 117,
   "id": "2fba0d40",
   "metadata": {},
   "outputs": [
    {
     "data": {
      "text/plain": [
       "<matplotlib.axes._subplots.AxesSubplot at 0x22b5dc0dd48>"
      ]
     },
     "execution_count": 117,
     "metadata": {},
     "output_type": "execute_result"
    },
    {
     "data": {
      "image/png": "[encoded data removed]",
      "text/plain": [
       "<Figure size 432x288 with 1 Axes>"
      ]
     },
     "metadata": {
      "needs_background": "light"
     },
     "output_type": "display_data"
    }
   ],
   "source": [
    "(melting_resampled- melting).plot()"
   ]
  },
  {
   "cell_type": "code",
   "execution_count": 17,
   "id": "65a79dab",
   "metadata": {},
   "outputs": [
    {
     "name": "stdout",
     "output_type": "stream",
     "text": [
      "hourly\t\t\t5min\n",
      "0.9999999999999998 1.0\n",
      "1.9999999999999996 2.000000000000001\n",
      "2.999999999999999 3.0\n",
      "3.9999999999999987 3.999999999999998\n",
      "4.999999999999998 5.0\n",
      "5.999999999999997 5.999999999999998\n",
      "6.999999999999997 7.0\n",
      "7.9999999999999964 8.000000000000002\n",
      "7.999999999999997 8.000000000000007\n",
      "7.999999999999997 8.00000000000001\n"
     ]
    }
   ],
   "source": [
    "print('hourly\\t\\t\\t5min')\n",
    "# print(swe.loc['2013-11-01 00:00']['10'], swe_5min.loc['2013-11-01 00:55']['10'])\n",
    "# print(swe.loc['2013-11-01 01:00']['10'], swe_5min.loc['2013-11-01 01:55']['10'])\n",
    "# print(swe.loc['2013-11-01 02:00']['10'], swe_5min.loc['2013-11-01 02:55']['10'])\n",
    "# print(swe.loc['2013-11-01 03:00']['10'], swe_5min.loc['2013-11-01 03:55']['10'])\n",
    "# print(swe.loc['2013-11-01 04:00']['10'], swe_5min.loc['2013-11-01 04:55']['10'])\n",
    "# print(swe.loc['2013-11-01 05:00']['10'], swe_5min.loc['2013-11-01 05:55']['10'])\n",
    "# print(swe.loc['2013-11-01 06:00']['10'], swe_5min.loc['2013-11-01 06:55']['10'])\n",
    "print(swe.loc['2013-11-01 07:00']['10'], swe_5min.loc['2013-11-01 07:55']['10'])\n",
    "print(swe.loc['2013-11-01 08:00']['10'], swe_5min.loc['2013-11-01 08:55']['10'])\n",
    "print(swe.loc['2013-11-01 09:00']['10'], swe_5min.loc['2013-11-01 09:55']['10'])\n",
    "print(swe.loc['2013-11-01 10:00']['10'], swe_5min.loc['2013-11-01 10:55']['10'])\n",
    "print(swe.loc['2013-11-01 11:00']['10'], swe_5min.loc['2013-11-01 11:55']['10'])\n",
    "print(swe.loc['2013-11-01 12:00']['10'], swe_5min.loc['2013-11-01 12:55']['10'])\n",
    "print(swe.loc['2013-11-01 13:00']['10'], swe_5min.loc['2013-11-01 13:55']['10'])\n",
    "print(swe.loc['2013-11-01 14:00']['10'], swe_5min.loc['2013-11-01 14:55']['10'])\n",
    "print(swe.loc['2013-11-01 15:00']['10'], swe_5min.loc['2013-11-01 15:55']['10'])\n",
    "print(swe.loc['2013-11-01 16:00']['10'], swe_5min.loc['2013-11-01 16:55']['10'])"
   ]
  },
  {
   "cell_type": "code",
   "execution_count": null,
   "id": "225a4b96",
   "metadata": {},
   "outputs": [],
   "source": []
  },
  {
   "cell_type": "code",
   "execution_count": null,
   "id": "bc5fbb6b",
   "metadata": {},
   "outputs": [],
   "source": [
    "1440/60\n"
   ]
  },
  {
   "cell_type": "code",
   "execution_count": null,
   "id": "f453e107",
   "metadata": {},
   "outputs": [],
   "source": [
    "3600/1440*60"
   ]
  },
  {
   "cell_type": "code",
   "execution_count": null,
   "id": "43efbc22",
   "metadata": {},
   "outputs": [],
   "source": []
  }
 ],
 "metadata": {
  "kernelspec": {
   "display_name": "Python 3",
   "language": "python",
   "name": "python3"
  },
  "language_info": {
   "codemirror_mode": {
    "name": "ipython",
    "version": 3
   },
   "file_extension": ".py",
   "mimetype": "text/x-python",
   "name": "python",
   "nbconvert_exporter": "python",
   "pygments_lexer": "ipython3",
   "version": "3.7.7"
  }
 },
 "nbformat": 4,
 "nbformat_minor": 5
}
